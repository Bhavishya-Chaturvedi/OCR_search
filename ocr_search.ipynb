{
 "cells": [
  {
   "cell_type": "code",
   "execution_count": 5,
   "metadata": {},
   "outputs": [],
   "source": [
    "import os\n",
    "from typing import List\n",
    "import easyocr"
   ]
  },
  {
   "cell_type": "code",
   "execution_count": 6,
   "metadata": {},
   "outputs": [
    {
     "name": "stderr",
     "output_type": "stream",
     "text": [
      "Using CPU. Note: This module is much faster with a GPU.\n",
      "Downloading detection model, please wait. This may take several minutes depending upon your network connection.\n"
     ]
    },
    {
     "name": "stdout",
     "output_type": "stream",
     "text": [
      "Progress: |██████████████████████████████████████████████████| 100.0% Complete"
     ]
    },
    {
     "name": "stderr",
     "output_type": "stream",
     "text": [
      "Downloading recognition model, please wait. This may take several minutes depending upon your network connection.\n"
     ]
    },
    {
     "name": "stdout",
     "output_type": "stream",
     "text": [
      "Progress: |██████████████████████████████████████████████████| 100.0% Complete"
     ]
    }
   ],
   "source": [
    "reader = easyocr.Reader(['en'], gpu = True)"
   ]
  },
  {
   "cell_type": "code",
   "execution_count": null,
   "metadata": {},
   "outputs": [
    {
     "data": {
      "text/plain": [
       "\"How to transfer your chat history Copy link Android iOS If you're moving from an Android phone to another Android phone; You can transfer your full chat and media using WhatsApp's Chat Transfer feature While restoring from backup can recover all of your chat data; the Chat Transfer feature allows you to transfer your full ccount information including all of your personal messages; photos, videos, documents etc: However; you can't transfer peer-to-peer payment messages and your call history, or media received over WhatsApp Channels_ 'history\""
      ]
     },
     "execution_count": 7,
     "metadata": {},
     "output_type": "execute_result"
    }
   ],
   "source": [
    "# for ocr over an image \n",
    "def ocr_scan(image_path: str ) -> str:\n",
    "    result = reader.readtext(str(image_path))\n",
    "    recognized_text = \" \".join(elem[1] for elem in result)\n",
    "    \n",
    "    return recognized_text\n",
    "\n",
    "\n",
    "image_path = \"./test.png\"\n",
    "ocr_scan(image_path)    "
   ]
  },
  {
   "cell_type": "code",
   "execution_count": null,
   "metadata": {},
   "outputs": [
    {
     "data": {
      "text/plain": [
       "['.\\\\test.png']"
      ]
     },
     "execution_count": 12,
     "metadata": {},
     "output_type": "execute_result"
    }
   ],
   "source": [
    "# for looping ocr over a folder and search keyword\n",
    "def search_images(directory: str, keyword: str) -> List[str]:\n",
    "    \n",
    "    matching_images = []\n",
    "    for root, dir ,files in os.walk(directory):\n",
    "        for file in files:\n",
    "            if file.endswith(('.jpg', '.png', '.jpeg')):\n",
    "                image_path=os.path.join(root,file)\n",
    "                detected_text = ocr_scan(image_path)\n",
    "                if keyword.lower() in detected_text.lower():\n",
    "                    matching_images.append(image_path)\n",
    "    \n",
    "    return matching_images\n",
    "\n",
    "\n",
    "search_images(\".\", keyword=\"How\")\n"
   ]
  },
  {
   "cell_type": "code",
   "execution_count": null,
   "metadata": {},
   "outputs": [],
   "source": []
  }
 ],
 "metadata": {
  "kernelspec": {
   "display_name": "ocr_search",
   "language": "python",
   "name": "python3"
  },
  "language_info": {
   "codemirror_mode": {
    "name": "ipython",
    "version": 3
   },
   "file_extension": ".py",
   "mimetype": "text/x-python",
   "name": "python",
   "nbconvert_exporter": "python",
   "pygments_lexer": "ipython3",
   "version": "3.10.16"
  }
 },
 "nbformat": 4,
 "nbformat_minor": 2
}
